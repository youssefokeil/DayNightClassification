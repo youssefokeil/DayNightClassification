{
 "cells": [
  {
   "cell_type": "markdown",
   "metadata": {},
   "source": [
    "# Importing Libraries"
   ]
  },
  {
   "cell_type": "code",
   "execution_count": 1,
   "metadata": {},
   "outputs": [],
   "source": [
    "import os\n",
    "import shutil\n",
    "import cv2\n",
    "import matplotlib.pyplot as plt\n",
    "\n",
    "\n",
    "import numpy as np\n",
    "import skimage.transform as sk_tfm\n",
    "from sklearn import svm\n",
    "\n",
    "from sklearn.model_selection import RandomizedSearchCV, train_test_split\n",
    "from sklearn.metrics import accuracy_score, classification_report\n",
    "import pandas as pd\n",
    "import itertools\n",
    "import random\n",
    "\n",
    "import pickle"
   ]
  },
  {
   "cell_type": "markdown",
   "metadata": {},
   "source": [
    "# Load Dataset"
   ]
  },
  {
   "cell_type": "markdown",
   "metadata": {},
   "source": [
    "This notebook assumes you downloaded the folder and extracted it in the same folder your notebook is in. This will leave you with 5 folders. That one of them might have a file structure like this:\n",
    "```\n",
    "dataset-005\n",
    "    └───day-night images\n",
    "        ├───day\n",
    "        ├───night_2nd_round\n",
    "        │   ├───folder_1\n",
    "        │   ├───folder_10\n",
    "        │   ├───folder_15\n",
    "        │   ├───folder_44\n",
    "        │   ├───folder_58\n",
    "        │   ├───folder_59\n",
    "        │   ├───folder_60\n",
    "        │   ├───folder_61\n",
    "        │   ├───folder_63\n",
    "        │   ├───folder_64\n",
    "        │   └───folder_68\n",
    "        └───night_3rd_round\n",
    "            ├───folder_110\n",
    "            ├───folder_114\n",
    "            ├───folder_12\n",
    "            ├───folder_123\n",
    "            ├───folder_25\n",
    "            ├───folder_36\n",
    "            ├───folder_60\n",
    "            ├───folder_71\n",
    "            └───folder_76\n",
    ".....\n",
    "```"
   ]
  },
  {
   "cell_type": "markdown",
   "metadata": {},
   "source": [
    "### Cleaning File Structure"
   ]
  },
  {
   "cell_type": "markdown",
   "metadata": {},
   "source": [
    "##### Day & Night Folders"
   ]
  },
  {
   "cell_type": "markdown",
   "metadata": {},
   "source": [
    "A small sneak at our data and you'll find that the we have 5 folder `dataset-001`,`dataset-002`, ...etc each containing 3 folders folders `day`, `night_2nd_round`, `night_3rd_round`. The night folders all have their images in other folders themselves. I'll try to make a function to extract all files from one of the datasets and loop for 5 times to extract all of our files.\n",
    "> NB: Try to keep a backup of the dataset elsewhere on your disk while performing bash scripts or os/shutil functions, because you never know what you will mess up"
   ]
  },
  {
   "cell_type": "markdown",
   "metadata": {},
   "source": [
    "We should first make a new folder to hold all of this clean data, I would call it `day_night_clean`."
   ]
  },
  {
   "cell_type": "code",
   "execution_count": 4,
   "metadata": {},
   "outputs": [
    {
     "name": "stdout",
     "output_type": "stream",
     "text": [
      "[WinError 183] Cannot create a file when that file already exists: 'day_night_clean'\n"
     ]
    }
   ],
   "source": [
    "new_dest = \"day_night_clean\"\n",
    "night_dest=os.path.join(new_dest,\"night\")\n",
    "day_dest=os.path.join(new_dest,\"day\")\n",
    "try:\n",
    "    os.mkdir(new_dest)\n",
    "    os.mkdir(night_dest)\n",
    "    os.mkdir(day_dest)\n",
    "    \n",
    "except OSError as error:\n",
    "    print(error)\n"
   ]
  },
  {
   "cell_type": "markdown",
   "metadata": {},
   "source": [
    "You'll notice that the day images are in one directory called `day`, while night images are split in two folders `night_2nd_round` & `night_3rd_round`, each containing folders that contain images. Because of the weird structure I would first make list of paths to night folders."
   ]
  },
  {
   "cell_type": "code",
   "execution_count": 23,
   "metadata": {},
   "outputs": [],
   "source": [
    "def night_folders(parent_dir,datasets_dirs:list,sub_dirs:list):\n",
    "    src_dirs=[]\n",
    "    for dataset in datasets_dirs:\n",
    "        for sub_dir in sub_dirs:\n",
    "            sub_path=os.path.join(parent_dir,dataset,\"day-night images\",sub_dir)\n",
    "            child_dirs=os.listdir(sub_path)\n",
    "            src_dirs.append([os.path.join(sub_path,child_dir) for child_dir in child_dirs])\n",
    "    \n",
    "    src_dirs= list(itertools.chain(*src_dirs))\n",
    "    return src_dirs\n",
    "\n",
    "parent_dir=\"day_night_datasets\"\n",
    "dataset_dirs=os.listdir(\"day_night_datasets\")      \n",
    "night_folders=night_folders(parent_dir,dataset_dirs,[\"night_2nd_round\",\"night_3rd_round\"])\n",
    "\n",
    "\n",
    "\n",
    "\n",
    "\n",
    "\n"
   ]
  },
  {
   "cell_type": "code",
   "execution_count": 28,
   "metadata": {},
   "outputs": [
    {
     "name": "stdout",
     "output_type": "stream",
     "text": [
      "The list contains 255 entries here's a subset\n"
     ]
    },
    {
     "data": {
      "text/plain": [
       "['day_night_datasets\\\\dataset-001\\\\day-night images\\\\night_2nd_round\\\\folder_1',\n",
       " 'day_night_datasets\\\\dataset-001\\\\day-night images\\\\night_2nd_round\\\\folder_19',\n",
       " 'day_night_datasets\\\\dataset-001\\\\day-night images\\\\night_2nd_round\\\\folder_34',\n",
       " 'day_night_datasets\\\\dataset-001\\\\day-night images\\\\night_2nd_round\\\\folder_40',\n",
       " 'day_night_datasets\\\\dataset-001\\\\day-night images\\\\night_2nd_round\\\\folder_48',\n",
       " 'day_night_datasets\\\\dataset-001\\\\day-night images\\\\night_2nd_round\\\\folder_53',\n",
       " 'day_night_datasets\\\\dataset-001\\\\day-night images\\\\night_2nd_round\\\\folder_55',\n",
       " 'day_night_datasets\\\\dataset-001\\\\day-night images\\\\night_2nd_round\\\\folder_57',\n",
       " 'day_night_datasets\\\\dataset-001\\\\day-night images\\\\night_2nd_round\\\\folder_6',\n",
       " 'day_night_datasets\\\\dataset-001\\\\day-night images\\\\night_2nd_round\\\\folder_61']"
      ]
     },
     "execution_count": 28,
     "metadata": {},
     "output_type": "execute_result"
    }
   ],
   "source": [
    "print(f\"The list contains {len(night_folders)} entries here's a subset\")\n",
    "night_folders[:10]"
   ]
  },
  {
   "cell_type": "markdown",
   "metadata": {},
   "source": [
    "Good so now we have a list of night folders that each have its own list of images. Let's make the same to day images. This should be simpler. ANd can be done using one list comprehension."
   ]
  },
  {
   "cell_type": "code",
   "execution_count": 26,
   "metadata": {},
   "outputs": [
    {
     "data": {
      "text/plain": [
       "['day_night_datasets\\\\dataset-001\\\\day-night images\\\\day',\n",
       " 'day_night_datasets\\\\dataset-002\\\\day-night images\\\\day',\n",
       " 'day_night_datasets\\\\dataset-003\\\\day-night images\\\\day',\n",
       " 'day_night_datasets\\\\dataset-004\\\\day-night images\\\\day',\n",
       " 'day_night_datasets\\\\dataset-005\\\\day-night images\\\\day']"
      ]
     },
     "execution_count": 26,
     "metadata": {},
     "output_type": "execute_result"
    }
   ],
   "source": [
    "day_folders=[os.path.join(parent_dir,dataset_dir,\"day-night images\",\"day\") for dataset_dir in dataset_dirs ]\n",
    "day_folders"
   ]
  },
  {
   "cell_type": "markdown",
   "metadata": {},
   "source": [
    "#### Cleaning Up dataset"
   ]
  },
  {
   "cell_type": "code",
   "execution_count": 31,
   "metadata": {},
   "outputs": [],
   "source": [
    "def clean_dataset(src_dirs:list,dest_dir):\n",
    "    for src_dir in src_dirs:\n",
    "        img_files= os.listdir(src_dir)\n",
    "        for img in img_files:\n",
    "            src_path=os.path.join(src_dir,img)\n",
    "            # important step is to copy files not rename them in case we mess something up\n",
    "            shutil.copyfile(src_path,os.path.join(dest_dir,img))\n",
    "\n"
   ]
  },
  {
   "cell_type": "markdown",
   "metadata": {},
   "source": [
    "This might take a while."
   ]
  },
  {
   "cell_type": "code",
   "execution_count": 32,
   "metadata": {},
   "outputs": [],
   "source": [
    "clean_dataset(night_folders,os.path.join(\"day_night_clean\",\"night\"))\n",
    "clean_dataset(day_folders,os.path.join(\"day_night_clean\",\"day\"))"
   ]
  },
  {
   "cell_type": "markdown",
   "metadata": {},
   "source": [
    "Congrats, we've finished cleaning up our file structure. You're free to delete the other folders and just keep `day_nigth_clean.`"
   ]
  },
  {
   "cell_type": "markdown",
   "metadata": {},
   "source": [
    "# Visualizing Data"
   ]
  },
  {
   "cell_type": "markdown",
   "metadata": {},
   "source": [
    "Our problem may be that out night images are so much more than the day images. Let's see."
   ]
  },
  {
   "cell_type": "code",
   "execution_count": 33,
   "metadata": {},
   "outputs": [
    {
     "name": "stdout",
     "output_type": "stream",
     "text": [
      "Number of day files is: 2762\n",
      "Number of night files is: 22819\n"
     ]
    }
   ],
   "source": [
    "day_files=os.listdir(os.path.join(\"day_night_clean\",\"day\"))\n",
    "night_files=os.listdir(os.path.join(\"day_night_clean\",\"night\"))\n",
    "\n",
    "print(\"Number of day files is:\", len(day_files))\n",
    "print(\"Number of night files is:\", len(night_files))"
   ]
  },
  {
   "cell_type": "code",
   "execution_count": 35,
   "metadata": {},
   "outputs": [
    {
     "data": {
      "text/plain": [
       "Text(0.5, 1.0, 'Day Image')"
      ]
     },
     "execution_count": 35,
     "metadata": {},
     "output_type": "execute_result"
    },
    {
     "data": {
      "image/png": "[encoded data removed]",
      "text/plain": [
       "<Figure size 640x480 with 1 Axes>"
      ]
     },
     "metadata": {},
     "output_type": "display_data"
    }
   ],
   "source": [
    "img=cv2.imread(os.path.join(\"day_night_clean\",\"day\",day_files[100]))\n",
    "# remember that opencv loads data as BGR, change that to RGB to get ur image\n",
    "img=cv2.cvtColor(img,cv2.COLOR_BGR2RGB)\n",
    "plt.imshow(img)\n",
    "plt.title(\"Day Image\")"
   ]
  },
  {
   "cell_type": "markdown",
   "metadata": {},
   "source": [
    "A naive solution is to take only a small subset of the night images. But I'll probably use f1-score as our accuracy of our model."
   ]
  },
  {
   "cell_type": "markdown",
   "metadata": {},
   "source": [
    "### Downsampling The Data"
   ]
  },
  {
   "cell_type": "markdown",
   "metadata": {},
   "source": [
    "As we've seen we have around 22,000 night images and only 2,700 day images. To fix this we'll have to try downsampling the data. This will also speed-up our learning process, because the machine will have less data to work through."
   ]
  },
  {
   "cell_type": "code",
   "execution_count": 45,
   "metadata": {},
   "outputs": [],
   "source": [
    "# specifying the destination for subset of images\n",
    "sub_dest = \"sub_day_night\"\n",
    "sub_day=os.path.join(sub_dest,\"day\")\n",
    "sub_night=os.path.join(sub_dest,\"night\")\n",
    "\n",
    "\n",
    "def copy_subset(src_dir,list_of_files,dest_dir,final_idx=150):\n",
    "    random.shuffle(list_of_files)\n",
    "    for file in list_of_files[:final_idx]:\n",
    "        dest_path=os.path.join(dest_dir,file)   \n",
    "        if not os.path.exists(dest_dir):    \n",
    "            os.makedirs(dest_dir)\n",
    "        src_path=os.path.join(src_dir,file)\n",
    "\n",
    "        shutil.copy(src_path,dest_path)\n",
    "\n",
    "\n",
    "copy_subset(os.path.join(\"day_night_clean\",\"day\"),day_files,sub_day,final_idx=len(day_files))\n",
    "copy_subset(os.path.join(\"day_night_clean\",\"night\"),night_files,sub_night,final_idx=len(day_files))\n"
   ]
  },
  {
   "cell_type": "markdown",
   "metadata": {},
   "source": [
    "# SVM Classifier"
   ]
  },
  {
   "cell_type": "markdown",
   "metadata": {},
   "source": [
    "The SVM model will demand that we resize our images first and flatten it."
   ]
  },
  {
   "cell_type": "markdown",
   "metadata": {},
   "source": [
    "##### Pre-processing For SVM"
   ]
  },
  {
   "cell_type": "code",
   "execution_count": 46,
   "metadata": {},
   "outputs": [],
   "source": [
    "classes=[\"day\", \"night\"]\n",
    "new_dest=\"sub_day_night\"\n",
    "\n",
    "flat_imgs=[]\n",
    "target=[]\n",
    "for category in classes:\n",
    "    cat_path=os.path.join(new_dest,category)\n",
    "    cat_list=os.listdir(cat_path)\n",
    "    random.shuffle(cat_list)\n",
    "    for img_file in cat_list:\n",
    "        img_path=os.path.join(cat_path,img_file)\n",
    "        img=cv2.imread(img_path)\n",
    "        img=sk_tfm.resize(img,(120,120,3))\n",
    "        flat_imgs.append(img.flatten())\n",
    "        target.append(classes.index(category))\n",
    "\n",
    "# change lists to np array\n",
    "flat_imgs=np.array(flat_imgs)\n",
    "target=np.array(target)\n",
    "        \n",
    "        \n",
    "        "
   ]
  },
  {
   "cell_type": "code",
   "execution_count": 47,
   "metadata": {},
   "outputs": [
    {
     "name": "stdout",
     "output_type": "stream",
     "text": [
      "5524\n"
     ]
    }
   ],
   "source": [
    "print(len(flat_imgs))"
   ]
  },
  {
   "cell_type": "code",
   "execution_count": 48,
   "metadata": {},
   "outputs": [
    {
     "data": {
      "text/plain": [
       "(5524, 43201)"
      ]
     },
     "execution_count": 48,
     "metadata": {},
     "output_type": "execute_result"
    }
   ],
   "source": [
    "# convert to dataframe\n",
    "svm_df=pd.DataFrame(flat_imgs) \n",
    "# add Target column\n",
    "svm_df['Target']=target\n",
    "svm_df.shape"
   ]
  },
  {
   "cell_type": "markdown",
   "metadata": {},
   "source": [
    "As you can see, the `svm_df` dataframe has 43,201 columns corresponding to our flattened (120,120,3) image, equals 120*120*3=43,200 and one extra column for the target. To train our model, we'll have to split this dataframe into x and y. We'll use pandas `iloc`"
   ]
  },
  {
   "cell_type": "code",
   "execution_count": 49,
   "metadata": {},
   "outputs": [],
   "source": [
    "x=svm_df.iloc[:,:-1]\n",
    "y=svm_df.iloc[:,-1]"
   ]
  },
  {
   "cell_type": "markdown",
   "metadata": {},
   "source": [
    "#### Test Split"
   ]
  },
  {
   "cell_type": "markdown",
   "metadata": {},
   "source": [
    "Split data into train and test. "
   ]
  },
  {
   "cell_type": "code",
   "execution_count": 50,
   "metadata": {},
   "outputs": [],
   "source": [
    "train_x, test_x, train_y, test_y=train_test_split(x,y,test_size=0.2)"
   ]
  },
  {
   "cell_type": "markdown",
   "metadata": {},
   "source": [
    "### Model Definition"
   ]
  },
  {
   "cell_type": "markdown",
   "metadata": {},
   "source": [
    "We'll make a simple Support Vector Classifier (SVC)"
   ]
  },
  {
   "cell_type": "code",
   "execution_count": 62,
   "metadata": {},
   "outputs": [],
   "source": [
    "svc=svm.SVC(probability=True)\n",
    "param_grid={'C':[0.1,1,10,100], \n",
    "            'gamma':[0.0001,0.001,0.1,1], \n",
    "            'kernel':['rbf','poly']} \n",
    "model_svm=RandomizedSearchCV(svc,param_grid,n_iter=5)"
   ]
  },
  {
   "cell_type": "markdown",
   "metadata": {},
   "source": [
    "### Training Model"
   ]
  },
  {
   "cell_type": "code",
   "execution_count": 63,
   "metadata": {},
   "outputs": [
    {
     "name": "stdout",
     "output_type": "stream",
     "text": [
      "Train_x shape is:  (4419, 43200)\n",
      "Train_y shape is:  (4419,)\n"
     ]
    }
   ],
   "source": [
    "print(\"Train_x shape is: \",train_x.shape)\n",
    "print(\"Train_y shape is: \",train_y.shape)"
   ]
  },
  {
   "cell_type": "markdown",
   "metadata": {},
   "source": [
    "Now let's fit our SVM model, this might take a while!"
   ]
  },
  {
   "cell_type": "code",
   "execution_count": 64,
   "metadata": {},
   "outputs": [
    {
     "data": {
      "text/html": [
       "<style>#sk-container-id-1 {\n",
       "  /* Definition of color scheme common for light and dark mode */\n",
       "  --sklearn-color-text: black;\n",
       "  --sklearn-color-line: gray;\n",
       "  /* Definition of color scheme for unfitted estimators */\n",
       "  --sklearn-color-unfitted-level-0: #fff5e6;\n",
       "  --sklearn-color-unfitted-level-1: #f6e4d2;\n",
       "  --sklearn-color-unfitted-level-2: #ffe0b3;\n",
       "  --sklearn-color-unfitted-level-3: chocolate;\n",
       "  /* Definition of color scheme for fitted estimators */\n",
       "  --sklearn-color-fitted-level-0: #f0f8ff;\n",
       "  --sklearn-color-fitted-level-1: #d4ebff;\n",
       "  --sklearn-color-fitted-level-2: #b3dbfd;\n",
       "  --sklearn-color-fitted-level-3: cornflowerblue;\n",
       "\n",
       "  /* Specific color for light theme */\n",
       "  --sklearn-color-text-on-default-background: var(--sg-text-color, var(--theme-code-foreground, var(--jp-content-font-color1, black)));\n",
       "  --sklearn-color-background: var(--sg-background-color, var(--theme-background, var(--jp-layout-color0, white)));\n",
       "  --sklearn-color-border-box: var(--sg-text-color, var(--theme-code-foreground, var(--jp-content-font-color1, black)));\n",
       "  --sklearn-color-icon: #696969;\n",
       "\n",
       "  @media (prefers-color-scheme: dark) {\n",
       "    /* Redefinition of color scheme for dark theme */\n",
       "    --sklearn-color-text-on-default-background: var(--sg-text-color, var(--theme-code-foreground, var(--jp-content-font-color1, white)));\n",
       "    --sklearn-color-background: var(--sg-background-color, var(--theme-background, var(--jp-layout-color0, #111)));\n",
       "    --sklearn-color-border-box: var(--sg-text-color, var(--theme-code-foreground, var(--jp-content-font-color1, white)));\n",
       "    --sklearn-color-icon: #878787;\n",
       "  }\n",
       "}\n",
       "\n",
       "#sk-container-id-1 {\n",
       "  color: var(--sklearn-color-text);\n",
       "}\n",
       "\n",
       "#sk-container-id-1 pre {\n",
       "  padding: 0;\n",
       "}\n",
       "\n",
       "#sk-container-id-1 input.sk-hidden--visually {\n",
       "  border: 0;\n",
       "  clip: rect(1px 1px 1px 1px);\n",
       "  clip: rect(1px, 1px, 1px, 1px);\n",
       "  height: 1px;\n",
       "  margin: -1px;\n",
       "  overflow: hidden;\n",
       "  padding: 0;\n",
       "  position: absolute;\n",
       "  width: 1px;\n",
       "}\n",
       "\n",
       "#sk-container-id-1 div.sk-dashed-wrapped {\n",
       "  border: 1px dashed var(--sklearn-color-line);\n",
       "  margin: 0 0.4em 0.5em 0.4em;\n",
       "  box-sizing: border-box;\n",
       "  padding-bottom: 0.4em;\n",
       "  background-color: var(--sklearn-color-background);\n",
       "}\n",
       "\n",
       "#sk-container-id-1 div.sk-container {\n",
       "  /* jupyter's `normalize.less` sets `[hidden] { display: none; }`\n",
       "     but bootstrap.min.css set `[hidden] { display: none !important; }`\n",
       "     so we also need the `!important` here to be able to override the\n",
       "     default hidden behavior on the sphinx rendered scikit-learn.org.\n",
       "     See: https://github.com/scikit-learn/scikit-learn/issues/21755 */\n",
       "  display: inline-block !important;\n",
       "  position: relative;\n",
       "}\n",
       "\n",
       "#sk-container-id-1 div.sk-text-repr-fallback {\n",
       "  display: none;\n",
       "}\n",
       "\n",
       "div.sk-parallel-item,\n",
       "div.sk-serial,\n",
       "div.sk-item {\n",
       "  /* draw centered vertical line to link estimators */\n",
       "  background-image: linear-gradient(var(--sklearn-color-text-on-default-background), var(--sklearn-color-text-on-default-background));\n",
       "  background-size: 2px 100%;\n",
       "  background-repeat: no-repeat;\n",
       "  background-position: center center;\n",
       "}\n",
       "\n",
       "/* Parallel-specific style estimator block */\n",
       "\n",
       "#sk-container-id-1 div.sk-parallel-item::after {\n",
       "  content: \"\";\n",
       "  width: 100%;\n",
       "  border-bottom: 2px solid var(--sklearn-color-text-on-default-background);\n",
       "  flex-grow: 1;\n",
       "}\n",
       "\n",
       "#sk-container-id-1 div.sk-parallel {\n",
       "  display: flex;\n",
       "  align-items: stretch;\n",
       "  justify-content: center;\n",
       "  background-color: var(--sklearn-color-background);\n",
       "  position: relative;\n",
       "}\n",
       "\n",
       "#sk-container-id-1 div.sk-parallel-item {\n",
       "  display: flex;\n",
       "  flex-direction: column;\n",
       "}\n",
       "\n",
       "#sk-container-id-1 div.sk-parallel-item:first-child::after {\n",
       "  align-self: flex-end;\n",
       "  width: 50%;\n",
       "}\n",
       "\n",
       "#sk-container-id-1 div.sk-parallel-item:last-child::after {\n",
       "  align-self: flex-start;\n",
       "  width: 50%;\n",
       "}\n",
       "\n",
       "#sk-container-id-1 div.sk-parallel-item:only-child::after {\n",
       "  width: 0;\n",
       "}\n",
       "\n",
       "/* Serial-specific style estimator block */\n",
       "\n",
       "#sk-container-id-1 div.sk-serial {\n",
       "  display: flex;\n",
       "  flex-direction: column;\n",
       "  align-items: center;\n",
       "  background-color: var(--sklearn-color-background);\n",
       "  padding-right: 1em;\n",
       "  padding-left: 1em;\n",
       "}\n",
       "\n",
       "\n",
       "/* Toggleable style: style used for estimator/Pipeline/ColumnTransformer box that is\n",
       "clickable and can be expanded/collapsed.\n",
       "- Pipeline and ColumnTransformer use this feature and define the default style\n",
       "- Estimators will overwrite some part of the style using the `sk-estimator` class\n",
       "*/\n",
       "\n",
       "/* Pipeline and ColumnTransformer style (default) */\n",
       "\n",
       "#sk-container-id-1 div.sk-toggleable {\n",
       "  /* Default theme specific background. It is overwritten whether we have a\n",
       "  specific estimator or a Pipeline/ColumnTransformer */\n",
       "  background-color: var(--sklearn-color-background);\n",
       "}\n",
       "\n",
       "/* Toggleable label */\n",
       "#sk-container-id-1 label.sk-toggleable__label {\n",
       "  cursor: pointer;\n",
       "  display: block;\n",
       "  width: 100%;\n",
       "  margin-bottom: 0;\n",
       "  padding: 0.5em;\n",
       "  box-sizing: border-box;\n",
       "  text-align: center;\n",
       "}\n",
       "\n",
       "#sk-container-id-1 label.sk-toggleable__label-arrow:before {\n",
       "  /* Arrow on the left of the label */\n",
       "  content: \"▸\";\n",
       "  float: left;\n",
       "  margin-right: 0.25em;\n",
       "  color: var(--sklearn-color-icon);\n",
       "}\n",
       "\n",
       "#sk-container-id-1 label.sk-toggleable__label-arrow:hover:before {\n",
       "  color: var(--sklearn-color-text);\n",
       "}\n",
       "\n",
       "/* Toggleable content - dropdown */\n",
       "\n",
       "#sk-container-id-1 div.sk-toggleable__content {\n",
       "  max-height: 0;\n",
       "  max-width: 0;\n",
       "  overflow: hidden;\n",
       "  text-align: left;\n",
       "  /* unfitted */\n",
       "  background-color: var(--sklearn-color-unfitted-level-0);\n",
       "}\n",
       "\n",
       "#sk-container-id-1 div.sk-toggleable__content.fitted {\n",
       "  /* fitted */\n",
       "  background-color: var(--sklearn-color-fitted-level-0);\n",
       "}\n",
       "\n",
       "#sk-container-id-1 div.sk-toggleable__content pre {\n",
       "  margin: 0.2em;\n",
       "  border-radius: 0.25em;\n",
       "  color: var(--sklearn-color-text);\n",
       "  /* unfitted */\n",
       "  background-color: var(--sklearn-color-unfitted-level-0);\n",
       "}\n",
       "\n",
       "#sk-container-id-1 div.sk-toggleable__content.fitted pre {\n",
       "  /* unfitted */\n",
       "  background-color: var(--sklearn-color-fitted-level-0);\n",
       "}\n",
       "\n",
       "#sk-container-id-1 input.sk-toggleable__control:checked~div.sk-toggleable__content {\n",
       "  /* Expand drop-down */\n",
       "  max-height: 200px;\n",
       "  max-width: 100%;\n",
       "  overflow: auto;\n",
       "}\n",
       "\n",
       "#sk-container-id-1 input.sk-toggleable__control:checked~label.sk-toggleable__label-arrow:before {\n",
       "  content: \"▾\";\n",
       "}\n",
       "\n",
       "/* Pipeline/ColumnTransformer-specific style */\n",
       "\n",
       "#sk-container-id-1 div.sk-label input.sk-toggleable__control:checked~label.sk-toggleable__label {\n",
       "  color: var(--sklearn-color-text);\n",
       "  background-color: var(--sklearn-color-unfitted-level-2);\n",
       "}\n",
       "\n",
       "#sk-container-id-1 div.sk-label.fitted input.sk-toggleable__control:checked~label.sk-toggleable__label {\n",
       "  background-color: var(--sklearn-color-fitted-level-2);\n",
       "}\n",
       "\n",
       "/* Estimator-specific style */\n",
       "\n",
       "/* Colorize estimator box */\n",
       "#sk-container-id-1 div.sk-estimator input.sk-toggleable__control:checked~label.sk-toggleable__label {\n",
       "  /* unfitted */\n",
       "  background-color: var(--sklearn-color-unfitted-level-2);\n",
       "}\n",
       "\n",
       "#sk-container-id-1 div.sk-estimator.fitted input.sk-toggleable__control:checked~label.sk-toggleable__label {\n",
       "  /* fitted */\n",
       "  background-color: var(--sklearn-color-fitted-level-2);\n",
       "}\n",
       "\n",
       "#sk-container-id-1 div.sk-label label.sk-toggleable__label,\n",
       "#sk-container-id-1 div.sk-label label {\n",
       "  /* The background is the default theme color */\n",
       "  color: var(--sklearn-color-text-on-default-background);\n",
       "}\n",
       "\n",
       "/* On hover, darken the color of the background */\n",
       "#sk-container-id-1 div.sk-label:hover label.sk-toggleable__label {\n",
       "  color: var(--sklearn-color-text);\n",
       "  background-color: var(--sklearn-color-unfitted-level-2);\n",
       "}\n",
       "\n",
       "/* Label box, darken color on hover, fitted */\n",
       "#sk-container-id-1 div.sk-label.fitted:hover label.sk-toggleable__label.fitted {\n",
       "  color: var(--sklearn-color-text);\n",
       "  background-color: var(--sklearn-color-fitted-level-2);\n",
       "}\n",
       "\n",
       "/* Estimator label */\n",
       "\n",
       "#sk-container-id-1 div.sk-label label {\n",
       "  font-family: monospace;\n",
       "  font-weight: bold;\n",
       "  display: inline-block;\n",
       "  line-height: 1.2em;\n",
       "}\n",
       "\n",
       "#sk-container-id-1 div.sk-label-container {\n",
       "  text-align: center;\n",
       "}\n",
       "\n",
       "/* Estimator-specific */\n",
       "#sk-container-id-1 div.sk-estimator {\n",
       "  font-family: monospace;\n",
       "  border: 1px dotted var(--sklearn-color-border-box);\n",
       "  border-radius: 0.25em;\n",
       "  box-sizing: border-box;\n",
       "  margin-bottom: 0.5em;\n",
       "  /* unfitted */\n",
       "  background-color: var(--sklearn-color-unfitted-level-0);\n",
       "}\n",
       "\n",
       "#sk-container-id-1 div.sk-estimator.fitted {\n",
       "  /* fitted */\n",
       "  background-color: var(--sklearn-color-fitted-level-0);\n",
       "}\n",
       "\n",
       "/* on hover */\n",
       "#sk-container-id-1 div.sk-estimator:hover {\n",
       "  /* unfitted */\n",
       "  background-color: var(--sklearn-color-unfitted-level-2);\n",
       "}\n",
       "\n",
       "#sk-container-id-1 div.sk-estimator.fitted:hover {\n",
       "  /* fitted */\n",
       "  background-color: var(--sklearn-color-fitted-level-2);\n",
       "}\n",
       "\n",
       "/* Specification for estimator info (e.g. \"i\" and \"?\") */\n",
       "\n",
       "/* Common style for \"i\" and \"?\" */\n",
       "\n",
       ".sk-estimator-doc-link,\n",
       "a:link.sk-estimator-doc-link,\n",
       "a:visited.sk-estimator-doc-link {\n",
       "  float: right;\n",
       "  font-size: smaller;\n",
       "  line-height: 1em;\n",
       "  font-family: monospace;\n",
       "  background-color: var(--sklearn-color-background);\n",
       "  border-radius: 1em;\n",
       "  height: 1em;\n",
       "  width: 1em;\n",
       "  text-decoration: none !important;\n",
       "  margin-left: 1ex;\n",
       "  /* unfitted */\n",
       "  border: var(--sklearn-color-unfitted-level-1) 1pt solid;\n",
       "  color: var(--sklearn-color-unfitted-level-1);\n",
       "}\n",
       "\n",
       ".sk-estimator-doc-link.fitted,\n",
       "a:link.sk-estimator-doc-link.fitted,\n",
       "a:visited.sk-estimator-doc-link.fitted {\n",
       "  /* fitted */\n",
       "  border: var(--sklearn-color-fitted-level-1) 1pt solid;\n",
       "  color: var(--sklearn-color-fitted-level-1);\n",
       "}\n",
       "\n",
       "/* On hover */\n",
       "div.sk-estimator:hover .sk-estimator-doc-link:hover,\n",
       ".sk-estimator-doc-link:hover,\n",
       "div.sk-label-container:hover .sk-estimator-doc-link:hover,\n",
       ".sk-estimator-doc-link:hover {\n",
       "  /* unfitted */\n",
       "  background-color: var(--sklearn-color-unfitted-level-3);\n",
       "  color: var(--sklearn-color-background);\n",
       "  text-decoration: none;\n",
       "}\n",
       "\n",
       "div.sk-estimator.fitted:hover .sk-estimator-doc-link.fitted:hover,\n",
       ".sk-estimator-doc-link.fitted:hover,\n",
       "div.sk-label-container:hover .sk-estimator-doc-link.fitted:hover,\n",
       ".sk-estimator-doc-link.fitted:hover {\n",
       "  /* fitted */\n",
       "  background-color: var(--sklearn-color-fitted-level-3);\n",
       "  color: var(--sklearn-color-background);\n",
       "  text-decoration: none;\n",
       "}\n",
       "\n",
       "/* Span, style for the box shown on hovering the info icon */\n",
       ".sk-estimator-doc-link span {\n",
       "  display: none;\n",
       "  z-index: 9999;\n",
       "  position: relative;\n",
       "  font-weight: normal;\n",
       "  right: .2ex;\n",
       "  padding: .5ex;\n",
       "  margin: .5ex;\n",
       "  width: min-content;\n",
       "  min-width: 20ex;\n",
       "  max-width: 50ex;\n",
       "  color: var(--sklearn-color-text);\n",
       "  box-shadow: 2pt 2pt 4pt #999;\n",
       "  /* unfitted */\n",
       "  background: var(--sklearn-color-unfitted-level-0);\n",
       "  border: .5pt solid var(--sklearn-color-unfitted-level-3);\n",
       "}\n",
       "\n",
       ".sk-estimator-doc-link.fitted span {\n",
       "  /* fitted */\n",
       "  background: var(--sklearn-color-fitted-level-0);\n",
       "  border: var(--sklearn-color-fitted-level-3);\n",
       "}\n",
       "\n",
       ".sk-estimator-doc-link:hover span {\n",
       "  display: block;\n",
       "}\n",
       "\n",
       "/* \"?\"-specific style due to the `<a>` HTML tag */\n",
       "\n",
       "#sk-container-id-1 a.estimator_doc_link {\n",
       "  float: right;\n",
       "  font-size: 1rem;\n",
       "  line-height: 1em;\n",
       "  font-family: monospace;\n",
       "  background-color: var(--sklearn-color-background);\n",
       "  border-radius: 1rem;\n",
       "  height: 1rem;\n",
       "  width: 1rem;\n",
       "  text-decoration: none;\n",
       "  /* unfitted */\n",
       "  color: var(--sklearn-color-unfitted-level-1);\n",
       "  border: var(--sklearn-color-unfitted-level-1) 1pt solid;\n",
       "}\n",
       "\n",
       "#sk-container-id-1 a.estimator_doc_link.fitted {\n",
       "  /* fitted */\n",
       "  border: var(--sklearn-color-fitted-level-1) 1pt solid;\n",
       "  color: var(--sklearn-color-fitted-level-1);\n",
       "}\n",
       "\n",
       "/* On hover */\n",
       "#sk-container-id-1 a.estimator_doc_link:hover {\n",
       "  /* unfitted */\n",
       "  background-color: var(--sklearn-color-unfitted-level-3);\n",
       "  color: var(--sklearn-color-background);\n",
       "  text-decoration: none;\n",
       "}\n",
       "\n",
       "#sk-container-id-1 a.estimator_doc_link.fitted:hover {\n",
       "  /* fitted */\n",
       "  background-color: var(--sklearn-color-fitted-level-3);\n",
       "}\n",
       "</style><div id=\"sk-container-id-1\" class=\"sk-top-container\"><div class=\"sk-text-repr-fallback\"><pre>RandomizedSearchCV(estimator=SVC(probability=True), n_iter=5,\n",
       "                   param_distributions={&#x27;C&#x27;: [0.1, 1, 10, 100],\n",
       "                                        &#x27;gamma&#x27;: [0.0001, 0.001, 0.1, 1],\n",
       "                                        &#x27;kernel&#x27;: [&#x27;rbf&#x27;, &#x27;poly&#x27;]})</pre><b>In a Jupyter environment, please rerun this cell to show the HTML representation or trust the notebook. <br />On GitHub, the HTML representation is unable to render, please try loading this page with nbviewer.org.</b></div><div class=\"sk-container\" hidden><div class=\"sk-item sk-dashed-wrapped\"><div class=\"sk-label-container\"><div class=\"sk-label fitted sk-toggleable\"><input class=\"sk-toggleable__control sk-hidden--visually\" id=\"sk-estimator-id-1\" type=\"checkbox\" ><label for=\"sk-estimator-id-1\" class=\"sk-toggleable__label fitted sk-toggleable__label-arrow fitted\">&nbsp;&nbsp;RandomizedSearchCV<a class=\"sk-estimator-doc-link fitted\" rel=\"noreferrer\" target=\"_blank\" href=\"https://scikit-learn.org/1.5/modules/generated/sklearn.model_selection.RandomizedSearchCV.html\">?<span>Documentation for RandomizedSearchCV</span></a><span class=\"sk-estimator-doc-link fitted\">i<span>Fitted</span></span></label><div class=\"sk-toggleable__content fitted\"><pre>RandomizedSearchCV(estimator=SVC(probability=True), n_iter=5,\n",
       "                   param_distributions={&#x27;C&#x27;: [0.1, 1, 10, 100],\n",
       "                                        &#x27;gamma&#x27;: [0.0001, 0.001, 0.1, 1],\n",
       "                                        &#x27;kernel&#x27;: [&#x27;rbf&#x27;, &#x27;poly&#x27;]})</pre></div> </div></div><div class=\"sk-parallel\"><div class=\"sk-parallel-item\"><div class=\"sk-item\"><div class=\"sk-label-container\"><div class=\"sk-label fitted sk-toggleable\"><input class=\"sk-toggleable__control sk-hidden--visually\" id=\"sk-estimator-id-2\" type=\"checkbox\" ><label for=\"sk-estimator-id-2\" class=\"sk-toggleable__label fitted sk-toggleable__label-arrow fitted\">best_estimator_: SVC</label><div class=\"sk-toggleable__content fitted\"><pre>SVC(C=100, gamma=0.0001, probability=True)</pre></div> </div></div><div class=\"sk-serial\"><div class=\"sk-item\"><div class=\"sk-estimator fitted sk-toggleable\"><input class=\"sk-toggleable__control sk-hidden--visually\" id=\"sk-estimator-id-3\" type=\"checkbox\" ><label for=\"sk-estimator-id-3\" class=\"sk-toggleable__label fitted sk-toggleable__label-arrow fitted\">&nbsp;SVC<a class=\"sk-estimator-doc-link fitted\" rel=\"noreferrer\" target=\"_blank\" href=\"https://scikit-learn.org/1.5/modules/generated/sklearn.svm.SVC.html\">?<span>Documentation for SVC</span></a></label><div class=\"sk-toggleable__content fitted\"><pre>SVC(C=100, gamma=0.0001, probability=True)</pre></div> </div></div></div></div></div></div></div></div></div>"
      ],
      "text/plain": [
       "RandomizedSearchCV(estimator=SVC(probability=True), n_iter=5,\n",
       "                   param_distributions={'C': [0.1, 1, 10, 100],\n",
       "                                        'gamma': [0.0001, 0.001, 0.1, 1],\n",
       "                                        'kernel': ['rbf', 'poly']})"
      ]
     },
     "execution_count": 64,
     "metadata": {},
     "output_type": "execute_result"
    }
   ],
   "source": [
    "model_svm.fit(train_x,train_y)"
   ]
  },
  {
   "cell_type": "markdown",
   "metadata": {},
   "source": [
    "Let's test our accuracy"
   ]
  },
  {
   "cell_type": "code",
   "execution_count": 65,
   "metadata": {},
   "outputs": [
    {
     "name": "stdout",
     "output_type": "stream",
     "text": [
      "The accuracy of our model is 100.0%\n"
     ]
    }
   ],
   "source": [
    "y_pred=model_svm.predict(test_x)\n",
    "accuracy=accuracy_score(y_true=test_y,y_pred=y_pred)\n",
    "print(f\"The accuracy of our model is {round(accuracy*100,ndigits=3)}%\")"
   ]
  },
  {
   "cell_type": "markdown",
   "metadata": {},
   "source": [
    "That's too good actually. I am concerned that we might have done something wrong. Let's see our classification report."
   ]
  },
  {
   "cell_type": "code",
   "execution_count": 66,
   "metadata": {},
   "outputs": [
    {
     "name": "stdout",
     "output_type": "stream",
     "text": [
      "              precision    recall  f1-score   support\n",
      "\n",
      "         day       1.00      1.00      1.00       556\n",
      "       night       1.00      1.00      1.00       549\n",
      "\n",
      "    accuracy                           1.00      1105\n",
      "   macro avg       1.00      1.00      1.00      1105\n",
      "weighted avg       1.00      1.00      1.00      1105\n",
      "\n"
     ]
    }
   ],
   "source": [
    "\n",
    "print(classification_report(test_y, y_pred, target_names=['day', 'night']))"
   ]
  },
  {
   "cell_type": "markdown",
   "metadata": {},
   "source": [
    "Seems good! Let's now try making a CNN model"
   ]
  },
  {
   "cell_type": "code",
   "execution_count": 81,
   "metadata": {},
   "outputs": [],
   "source": [
    "with open('svm_model.pkl','wb') as f:\n",
    "    pickle.dump(model_svm,f)\n"
   ]
  },
  {
   "cell_type": "markdown",
   "metadata": {},
   "source": [
    "# CNN Using PyTorch"
   ]
  },
  {
   "cell_type": "markdown",
   "metadata": {},
   "source": [
    "## Importing Libraries"
   ]
  },
  {
   "cell_type": "code",
   "execution_count": 1,
   "metadata": {},
   "outputs": [],
   "source": [
    "from torchvision.transforms import v2\n",
    "from torchvision import datasets\n",
    "from torch.utils.data import *\n",
    "import torch\n",
    "from torch import nn\n",
    "import torch.nn.functional as F"
   ]
  },
  {
   "cell_type": "markdown",
   "metadata": {},
   "source": [
    "## Preprocessing"
   ]
  },
  {
   "cell_type": "markdown",
   "metadata": {},
   "source": [
    "Those images are too big, so we'll have to put that in mind while pre-processing"
   ]
  },
  {
   "cell_type": "code",
   "execution_count": 2,
   "metadata": {},
   "outputs": [],
   "source": [
    "transforms= v2.Compose([\n",
    "    v2.RandomResizedCrop(size=(64,64)),\n",
    "    v2.RandomHorizontalFlip(), #flipping image to its mirror shouldn't change our classification\n",
    "    v2.ToImage(),  # this and the next line are the new ToTensor\n",
    "    v2.ToDtype(torch.float32, scale=True),\n",
    "    v2.Normalize(mean=[0.5, 0.5, 0.5], std=[0.5, 0.5, 0.5])\n",
    "])\n"
   ]
  },
  {
   "cell_type": "code",
   "execution_count": 51,
   "metadata": {},
   "outputs": [],
   "source": [
    "dataset=datasets.ImageFolder(root='sub_day_night',transform=transforms)\n",
    "train_set, val_set=torch.utils.data.random_split(dataset,[0.7,0.3])\n",
    "train_loader=DataLoader(train_set, batch_size=128,shuffle=True)\n",
    "val_loader=DataLoader(val_set, batch_size=128,shuffle=True)"
   ]
  },
  {
   "cell_type": "markdown",
   "metadata": {},
   "source": [
    "### Model Definition"
   ]
  },
  {
   "cell_type": "markdown",
   "metadata": {},
   "source": [
    "I'll use 3 convolution layers and pooling layers. Our model head will have fully connected layers and a sigmoid actiivation. I'll also use relu activation between intermediate layers."
   ]
  },
  {
   "cell_type": "code",
   "execution_count": 53,
   "metadata": {},
   "outputs": [],
   "source": [
    "class CNNModule(nn.Module):\n",
    "    def __init__(self):\n",
    "        super().__init__()\n",
    "        #our first convolution layer\n",
    "        self.conv1=nn.Conv2d(3,16,3,padding=1) \n",
    "        self.conv2=nn.Conv2d(16,32,3,padding=1)\n",
    "        self.pool=nn.AvgPool2d(2,2)\n",
    "        self.fc1=nn.Linear(16*16*32,512)\n",
    "        self.fc2=nn.Linear(512,1)\n",
    "        self.sigmoid=nn.Sigmoid()\n",
    "        self.dropout=nn.Dropout(p=0.2)\n",
    "    def forward(self,x):\n",
    "        # input=64 x 64 x 3, output=32 x 32 x 16\n",
    "        x=self.pool(F.relu(self.conv1(x)))\n",
    "        # input=32 x 32 x 16, output=16 x 16 x 32\n",
    "        x=self.pool(F.relu(self.conv2(x)))\n",
    "        # flatten\n",
    "        x=x.view(-1,16*16*32)\n",
    "        # fully connected layer\n",
    "        x=self.dropout(x)\n",
    "        x=F.relu(self.fc1(x))\n",
    "        self.dropout(x)\n",
    "        x=F.relu(self.fc2(x))\n",
    "        return x   \n",
    "\n",
    "\n"
   ]
  },
  {
   "cell_type": "code",
   "execution_count": 54,
   "metadata": {},
   "outputs": [],
   "source": [
    "model_cnn=CNNModule()\n",
    "criterion=nn.BCEWithLogitsLoss()\n",
    "optimizer= torch.optim.SGD(model_cnn.parameters(), lr=0.01,momentum=0.9)\n"
   ]
  },
  {
   "cell_type": "markdown",
   "metadata": {},
   "source": [
    "### Test For CUDA"
   ]
  },
  {
   "cell_type": "code",
   "execution_count": 55,
   "metadata": {},
   "outputs": [
    {
     "name": "stdout",
     "output_type": "stream",
     "text": [
      "Training on GPU\n"
     ]
    }
   ],
   "source": [
    "train_gpu=torch.cuda.is_available()\n",
    "if train_gpu:\n",
    "    model_cnn.cuda()\n",
    "    print(\"Training on GPU\")"
   ]
  },
  {
   "cell_type": "markdown",
   "metadata": {},
   "source": [
    "### Training Loop"
   ]
  },
  {
   "cell_type": "markdown",
   "metadata": {},
   "source": [
    "Let's make a scheduler, so that the model changes its learning rate when it stops learning."
   ]
  },
  {
   "cell_type": "code",
   "execution_count": 56,
   "metadata": {},
   "outputs": [],
   "source": [
    "scheduler=torch.optim.lr_scheduler.OneCycleLR(optimizer,max_lr=0.01,steps_per_epoch=len(train_loader),anneal_strategy=\"cos\",epochs=20)"
   ]
  },
  {
   "cell_type": "markdown",
   "metadata": {},
   "source": [
    "## Training Loop"
   ]
  },
  {
   "cell_type": "code",
   "execution_count": 58,
   "metadata": {},
   "outputs": [
    {
     "name": "stdout",
     "output_type": "stream",
     "text": [
      "For epoch 1\n",
      ", Validation loss is 0.385, Training Loss is 0.011, Accuracy is 49.898%\n",
      "For epoch 2\n",
      ", Validation loss is 0.386, Training Loss is 0.012, Accuracy is 49.915%\n",
      "For epoch 3\n",
      ", Validation loss is 0.380, Training Loss is 0.013, Accuracy is 49.905%\n"
     ]
    }
   ],
   "source": [
    "max_epochs =20\n",
    "\n",
    "for i in range(max_epochs):\n",
    "    training_loss=0\n",
    "    \n",
    "    for images, labels in train_loader:\n",
    "        #####################################\n",
    "        ## Training #######################\n",
    "        # to let dropout work when training model\n",
    "        model_cnn.train()\n",
    "        training_loss=0\n",
    "        if train_gpu:\n",
    "            # remember to put your data on the dame device as your model\n",
    "            images=images.cuda()\n",
    "            labels=labels.cuda()\n",
    "        # 0) zero out the gradients, to avoid gradient accumulation\n",
    "        optimizer.zero_grad()\n",
    "        # 1) forward pass\n",
    "        preds=model_cnn(images)\n",
    "        # 2) measure loss\n",
    "        loss=criterion(preds,labels.unsqueeze(1).float())\n",
    "        training_loss+=loss.item()\n",
    "        # 3) backward pass\n",
    "        loss.backward()\n",
    "        # 4) optimizer step\n",
    "        optimizer.step()\n",
    "        scheduler.step()\n",
    "    else:\n",
    "        validation_loss=0\n",
    "        accuracy=0\n",
    "        for images, labels in val_loader:\n",
    "            #####################################\n",
    "            ## VALIDATION #######################\n",
    "            ###################################\n",
    "            # save memory and computation by letting pytorch not measure gradients\n",
    "            # to let dropout stop working when validating model\n",
    "            model_cnn.eval()\n",
    "            with torch.no_grad():        \n",
    "                \n",
    "                if train_gpu:\n",
    "                    # remember to put your data on the dame device as your model\n",
    "                    images=images.cuda()\n",
    "                    labels=labels.cuda()\n",
    "                # 1) forward pass\n",
    "                preds=model_cnn(images)\n",
    "                \n",
    "                preds,y=preds.to(torch.float16), labels.view(*preds.shape).to(torch.float16)\n",
    "\n",
    "            # validation loss\n",
    "            validation_loss+=criterion(preds,y)        \n",
    "            # check accuracy\n",
    "            ps=torch.exp(preds)\n",
    "            _,top_class=torch.topk(ps,1,dim=1)\n",
    "            equals=(top_class==y)\n",
    "            batch_accuracy=torch.mean(equals.type(torch.FloatTensor))\n",
    "            accuracy+=batch_accuracy\n",
    "\n",
    "    training_loss/=len(train_loader)\n",
    "    validation_loss/=len(val_loader)\n",
    "\n",
    "    print(\"For epoch {}\\n, Validation loss is {:.3f}, Training Loss is {:.3f}, Accuracy is {:.3f}%\"\\\n",
    "          .format((i+1),validation_loss,training_loss,(accuracy/len(val_loader))*100))\n",
    "\n"
   ]
  },
  {
   "cell_type": "markdown",
   "metadata": {},
   "source": [
    "Now let;'s run our model for some epochs and see how well it performs."
   ]
  },
  {
   "cell_type": "markdown",
   "metadata": {},
   "source": [
    "# CNN using TensorFlow"
   ]
  },
  {
   "cell_type": "markdown",
   "metadata": {},
   "source": [
    "## Importing Libraries"
   ]
  },
  {
   "cell_type": "code",
   "execution_count": null,
   "metadata": {},
   "outputs": [],
   "source": [
    "import tensorflow as tf\n",
    "\n",
    "from tensorflow.keras.layers import Dense, Flatten, Conv2D\n",
    "from tensorflow.keras import Model"
   ]
  }
 ],
 "metadata": {
  "kernelspec": {
   "display_name": "base",
   "language": "python",
   "name": "python3"
  },
  "language_info": {
   "codemirror_mode": {
    "name": "ipython",
    "version": 3
   },
   "file_extension": ".py",
   "mimetype": "text/x-python",
   "name": "python",
   "nbconvert_exporter": "python",
   "pygments_lexer": "ipython3",
   "version": "3.12.3"
  }
 },
 "nbformat": 4,
 "nbformat_minor": 2
}
